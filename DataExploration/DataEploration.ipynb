{
 "cells": [
  {
   "cell_type": "code",
   "execution_count": 1,
   "metadata": {},
   "outputs": [],
   "source": [
    "import pandas as pd"
   ]
  },
  {
   "cell_type": "code",
   "execution_count": 42,
   "metadata": {},
   "outputs": [],
   "source": [
    "df = pd.read_excel('C:/Users/ecaudron001/Documents/Github/semic_pledges/PledgeList.xlsx', 'Pledge List 25 October 2022') # Reading the source file and loading the data into a dataframe"
   ]
  },
  {
   "cell_type": "code",
   "execution_count": 10,
   "metadata": {},
   "outputs": [
    {
     "data": {
      "text/plain": [
       "<bound method NDFrame.head of      Topic                                             Pledge  \\\n",
       "0        1  HOTREC calls for a level playing field and fai...   \n",
       "1        1  Actually we as an association are still pretty...   \n",
       "2        1  Estonia sees the need to synchronize and harmo...   \n",
       "3        2  Achieve sustainable and flexible solutions for...   \n",
       "4        2  The Ile-de-France Region aims to make tourist ...   \n",
       "..     ...                                                ...   \n",
       "255     27  The supporting programmes will provide 2 diffe...   \n",
       "256     21  Higher education institutions and VET provider...   \n",
       "257     28  Regional strategy for sustainable development ...   \n",
       "258     28  “Lofoten the Green Islands 2030” is a programm...   \n",
       "259     22  Actions:_x000D_\\nUp/reskilling of the tourism ...   \n",
       "\n",
       "                                     Organisation name        Country  \\\n",
       "0                                               HOTREC        Belgium   \n",
       "1                          Deutscher Ferienhausverband        Germany   \n",
       "2       Ministry of Economic Affairs and Communication        Estonia   \n",
       "3    CNA - Confederazione Nazionale dell'Artigianat...          Italy   \n",
       "4                                 Ile-de-France Europe         France   \n",
       "..                                                 ...            ...   \n",
       "255                                            X23 Srl          Italy   \n",
       "256                      Univations GmbH, Daniel Worch        Germany   \n",
       "257                                    Regione Liguria          Italy   \n",
       "258                                Destination Lofoten  Other country   \n",
       "259                      Univations GmbH, Daniel Worch        Germany   \n",
       "\n",
       "                                              Type  \n",
       "0                             Business association  \n",
       "1                             Business association  \n",
       "2                          National administration  \n",
       "3                             Business association  \n",
       "4                          Regional administration  \n",
       "..                                             ...  \n",
       "255                                          Other  \n",
       "256   SME (a company with less than 250 employees)  \n",
       "257                        Regional administration  \n",
       "258  Destination management/marketing organisation  \n",
       "259   SME (a company with less than 250 employees)  \n",
       "\n",
       "[260 rows x 5 columns]>"
      ]
     },
     "execution_count": 10,
     "metadata": {},
     "output_type": "execute_result"
    }
   ],
   "source": [
    "df.head # Inspecting the first rows of the data"
   ]
  },
  {
   "cell_type": "code",
   "execution_count": 43,
   "metadata": {},
   "outputs": [
    {
     "data": {
      "text/plain": [
       "<bound method NDFrame.head of      Topic                                             Pledge\n",
       "0        1  HOTREC calls for a level playing field and fai...\n",
       "1        1  Actually we as an association are still pretty...\n",
       "2        1  Estonia sees the need to synchronize and harmo...\n",
       "3        2  Achieve sustainable and flexible solutions for...\n",
       "4        2  The Ile-de-France Region aims to make tourist ...\n",
       "..     ...                                                ...\n",
       "255     27  The supporting programmes will provide 2 diffe...\n",
       "256     21  Higher education institutions and VET provider...\n",
       "257     28  Regional strategy for sustainable development ...\n",
       "258     28  “Lofoten the Green Islands 2030” is a programm...\n",
       "259     22  Actions:_x000D_\\nUp/reskilling of the tourism ...\n",
       "\n",
       "[260 rows x 2 columns]>"
      ]
     },
     "execution_count": 43,
     "metadata": {},
     "output_type": "execute_result"
    }
   ],
   "source": [
    "ToDrop = [\"Organisation name\", \"Country\", \"Type\"] # Variable that are not used for the purpose of this project\n",
    "\n",
    "df.drop(ToDrop, inplace = True, axis = 1) # Using the .drop function to get rid of necessary columns (as listed in ToDrop) \n",
    "# Args: inplace = True to apply the changes directly into the dataframe ; axis = 1 to drop the values in the columns of df\n",
    "\n",
    "df.head # Controlling the effects"
   ]
  },
  {
   "cell_type": "code",
   "execution_count": 19,
   "metadata": {},
   "outputs": [
    {
     "data": {
      "text/plain": [
       "False"
      ]
     },
     "execution_count": 19,
     "metadata": {},
     "output_type": "execute_result"
    }
   ],
   "source": [
    "# Controlling the type\n",
    "[df['Pledge'].map(type) != str] == True\n",
    "[df['Topic'].map(type) != int] == True"
   ]
  },
  {
   "cell_type": "code",
   "execution_count": 44,
   "metadata": {},
   "outputs": [],
   "source": [
    "df.to_csv(\"CleanedData.csv\")"
   ]
  },
  {
   "cell_type": "code",
   "execution_count": 4,
   "metadata": {},
   "outputs": [],
   "source": [
    "df = pd.read_csv('C:/Users/ecaudron001/Documents/Github/semic_pledges/CleanedData.csv', index_col=0)"
   ]
  },
  {
   "cell_type": "code",
   "execution_count": 7,
   "metadata": {},
   "outputs": [],
   "source": [
    "from langdetect import detect"
   ]
  },
  {
   "cell_type": "code",
   "execution_count": 38,
   "metadata": {},
   "outputs": [],
   "source": [
    "liste = [42]\n",
    "\n",
    "for i in df.index:\n",
    "    \n",
    "    text = df.iloc[i,1]\n",
    "\n",
    "    if detect(text) == \"fr\":\n",
    "        liste.append(i)"
   ]
  },
  {
   "cell_type": "code",
   "execution_count": 42,
   "metadata": {},
   "outputs": [
    {
     "data": {
      "text/plain": [
       "[42, 4, 19, 64, 80, 91, 123, 149]"
      ]
     },
     "execution_count": 42,
     "metadata": {},
     "output_type": "execute_result"
    }
   ],
   "source": [
    "liste"
   ]
  },
  {
   "cell_type": "code",
   "execution_count": 40,
   "metadata": {},
   "outputs": [
    {
     "data": {
      "text/html": [
       "<div>\n",
       "<style scoped>\n",
       "    .dataframe tbody tr th:only-of-type {\n",
       "        vertical-align: middle;\n",
       "    }\n",
       "\n",
       "    .dataframe tbody tr th {\n",
       "        vertical-align: top;\n",
       "    }\n",
       "\n",
       "    .dataframe thead th {\n",
       "        text-align: right;\n",
       "    }\n",
       "</style>\n",
       "<table border=\"1\" class=\"dataframe\">\n",
       "  <thead>\n",
       "    <tr style=\"text-align: right;\">\n",
       "      <th></th>\n",
       "      <th>Topic</th>\n",
       "      <th>Pledge</th>\n",
       "    </tr>\n",
       "  </thead>\n",
       "  <tbody>\n",
       "    <tr>\n",
       "      <th>4</th>\n",
       "      <td>2</td>\n",
       "      <td>The Ile-de-France Region aims to make tourist ...</td>\n",
       "    </tr>\n",
       "    <tr>\n",
       "      <th>19</th>\n",
       "      <td>3</td>\n",
       "      <td>The regional tourism observatory will be stren...</td>\n",
       "    </tr>\n",
       "    <tr>\n",
       "      <th>42</th>\n",
       "      <td>4</td>\n",
       "      <td>The 2022-2028 Regional Tourism and Leisure Str...</td>\n",
       "    </tr>\n",
       "    <tr>\n",
       "      <th>64</th>\n",
       "      <td>5</td>\n",
       "      <td>In order to restore Île-de-France's position a...</td>\n",
       "    </tr>\n",
       "    <tr>\n",
       "      <th>80</th>\n",
       "      <td>6</td>\n",
       "      <td>The use of cycling for leisure, local or natio...</td>\n",
       "    </tr>\n",
       "    <tr>\n",
       "      <th>91</th>\n",
       "      <td>7</td>\n",
       "      <td>Local food supply_x000D_\\r\\nThe regional actio...</td>\n",
       "    </tr>\n",
       "    <tr>\n",
       "      <th>123</th>\n",
       "      <td>9</td>\n",
       "      <td>In order to become the first Smart Region in E...</td>\n",
       "    </tr>\n",
       "    <tr>\n",
       "      <th>149</th>\n",
       "      <td>12</td>\n",
       "      <td>The Region wishes to strengthen the commitment...</td>\n",
       "    </tr>\n",
       "  </tbody>\n",
       "</table>\n",
       "</div>"
      ],
      "text/plain": [
       "     Topic                                             Pledge\n",
       "4        2  The Ile-de-France Region aims to make tourist ...\n",
       "19       3  The regional tourism observatory will be stren...\n",
       "42       4  The 2022-2028 Regional Tourism and Leisure Str...\n",
       "64       5  In order to restore Île-de-France's position a...\n",
       "80       6  The use of cycling for leisure, local or natio...\n",
       "91       7  Local food supply_x000D_\\r\\nThe regional actio...\n",
       "123      9  In order to become the first Smart Region in E...\n",
       "149     12  The Region wishes to strengthen the commitment..."
      ]
     },
     "execution_count": 40,
     "metadata": {},
     "output_type": "execute_result"
    }
   ],
   "source": [
    "df[df.index.isin(liste)]"
   ]
  },
  {
   "cell_type": "code",
   "execution_count": 41,
   "metadata": {},
   "outputs": [
    {
     "data": {
      "text/html": [
       "<div>\n",
       "<style scoped>\n",
       "    .dataframe tbody tr th:only-of-type {\n",
       "        vertical-align: middle;\n",
       "    }\n",
       "\n",
       "    .dataframe tbody tr th {\n",
       "        vertical-align: top;\n",
       "    }\n",
       "\n",
       "    .dataframe thead th {\n",
       "        text-align: right;\n",
       "    }\n",
       "</style>\n",
       "<table border=\"1\" class=\"dataframe\">\n",
       "  <thead>\n",
       "    <tr style=\"text-align: right;\">\n",
       "      <th></th>\n",
       "      <th>Topic</th>\n",
       "      <th>Pledge</th>\n",
       "    </tr>\n",
       "  </thead>\n",
       "  <tbody>\n",
       "    <tr>\n",
       "      <th>0</th>\n",
       "      <td>1</td>\n",
       "      <td>HOTREC calls for a level playing field and fai...</td>\n",
       "    </tr>\n",
       "    <tr>\n",
       "      <th>1</th>\n",
       "      <td>1</td>\n",
       "      <td>Actually we as an association are still pretty...</td>\n",
       "    </tr>\n",
       "    <tr>\n",
       "      <th>2</th>\n",
       "      <td>1</td>\n",
       "      <td>Estonia sees the need to synchronize and harmo...</td>\n",
       "    </tr>\n",
       "    <tr>\n",
       "      <th>3</th>\n",
       "      <td>2</td>\n",
       "      <td>Achieve sustainable and flexible solutions for...</td>\n",
       "    </tr>\n",
       "    <tr>\n",
       "      <th>5</th>\n",
       "      <td>3</td>\n",
       "      <td>The Austrian Hoteliers Association (ÖHV) publi...</td>\n",
       "    </tr>\n",
       "    <tr>\n",
       "      <th>...</th>\n",
       "      <td>...</td>\n",
       "      <td>...</td>\n",
       "    </tr>\n",
       "    <tr>\n",
       "      <th>255</th>\n",
       "      <td>27</td>\n",
       "      <td>The supporting programmes will provide 2 diffe...</td>\n",
       "    </tr>\n",
       "    <tr>\n",
       "      <th>256</th>\n",
       "      <td>21</td>\n",
       "      <td>Higher education institutions and VET provider...</td>\n",
       "    </tr>\n",
       "    <tr>\n",
       "      <th>257</th>\n",
       "      <td>28</td>\n",
       "      <td>Regional strategy for sustainable development ...</td>\n",
       "    </tr>\n",
       "    <tr>\n",
       "      <th>258</th>\n",
       "      <td>28</td>\n",
       "      <td>“Lofoten the Green Islands 2030” is a programm...</td>\n",
       "    </tr>\n",
       "    <tr>\n",
       "      <th>259</th>\n",
       "      <td>22</td>\n",
       "      <td>Actions:_x000D_\\r\\nUp/reskilling of the touris...</td>\n",
       "    </tr>\n",
       "  </tbody>\n",
       "</table>\n",
       "<p>252 rows × 2 columns</p>\n",
       "</div>"
      ],
      "text/plain": [
       "     Topic                                             Pledge\n",
       "0        1  HOTREC calls for a level playing field and fai...\n",
       "1        1  Actually we as an association are still pretty...\n",
       "2        1  Estonia sees the need to synchronize and harmo...\n",
       "3        2  Achieve sustainable and flexible solutions for...\n",
       "5        3  The Austrian Hoteliers Association (ÖHV) publi...\n",
       "..     ...                                                ...\n",
       "255     27  The supporting programmes will provide 2 diffe...\n",
       "256     21  Higher education institutions and VET provider...\n",
       "257     28  Regional strategy for sustainable development ...\n",
       "258     28  “Lofoten the Green Islands 2030” is a programm...\n",
       "259     22  Actions:_x000D_\\r\\nUp/reskilling of the touris...\n",
       "\n",
       "[252 rows x 2 columns]"
      ]
     },
     "execution_count": 41,
     "metadata": {},
     "output_type": "execute_result"
    }
   ],
   "source": [
    "df[~df.index.isin(liste)]"
   ]
  },
  {
   "attachments": {},
   "cell_type": "markdown",
   "metadata": {},
   "source": [
    "Visualisation"
   ]
  },
  {
   "cell_type": "code",
   "execution_count": 21,
   "metadata": {},
   "outputs": [],
   "source": [
    "import matplotlib.pyplot as plt"
   ]
  },
  {
   "cell_type": "code",
   "execution_count": 29,
   "metadata": {},
   "outputs": [
    {
     "data": {
      "text/plain": [
       "(array([ 3.,  2., 23., 24., 18., 16., 10., 24.,  6., 10.,  8., 13.,  0.,\n",
       "         8.,  5., 19.,  1.,  1.,  5.,  6.,  9., 11.,  8.,  0.,  7., 12.,\n",
       "         7.,  4.]),\n",
       " array([ 1.        ,  1.96428571,  2.92857143,  3.89285714,  4.85714286,\n",
       "         5.82142857,  6.78571429,  7.75      ,  8.71428571,  9.67857143,\n",
       "        10.64285714, 11.60714286, 12.57142857, 13.53571429, 14.5       ,\n",
       "        15.46428571, 16.42857143, 17.39285714, 18.35714286, 19.32142857,\n",
       "        20.28571429, 21.25      , 22.21428571, 23.17857143, 24.14285714,\n",
       "        25.10714286, 26.07142857, 27.03571429, 28.        ]),\n",
       " <BarContainer object of 28 artists>)"
      ]
     },
     "execution_count": 29,
     "metadata": {},
     "output_type": "execute_result"
    },
    {
     "data": {
      "image/png": "[encoded data removed]",
      "text/plain": [
       "<Figure size 640x480 with 1 Axes>"
      ]
     },
     "metadata": {},
     "output_type": "display_data"
    }
   ],
   "source": [
    "plt.hist(df[\"Topic\"], bins = 28,  histtype='bar', rwidth=0.8) # Plotting an histogram of the number of pledges per topic"
   ]
  },
  {
   "cell_type": "code",
   "execution_count": null,
   "metadata": {},
   "outputs": [],
   "source": [
    "import string"
   ]
  },
  {
   "cell_type": "code",
   "execution_count": 36,
   "metadata": {},
   "outputs": [],
   "source": [
    "# Defining a new column containing the number of words per pledge\n",
    "\n",
    "LengthList = [] # List that will contain the number of words of each pledge\n",
    "\n",
    "for pledge in df[\"Pledge\"]: # Looping over the different pledges from the dataframe\n",
    "\n",
    "    LengthList.append(len(pledge.split())) # Appending the number of words to the pledge\n",
    "\n",
    "df[\"Length\"] = LengthList"
   ]
  },
  {
   "cell_type": "code",
   "execution_count": 37,
   "metadata": {},
   "outputs": [
    {
     "data": {
      "text/plain": [
       "{'whiskers': [<matplotlib.lines.Line2D at 0x1becce33640>,\n",
       "  <matplotlib.lines.Line2D at 0x1becce338e0>],\n",
       " 'caps': [<matplotlib.lines.Line2D at 0x1becce33b80>,\n",
       "  <matplotlib.lines.Line2D at 0x1becce33e20>],\n",
       " 'boxes': [<matplotlib.lines.Line2D at 0x1becce333a0>],\n",
       " 'medians': [<matplotlib.lines.Line2D at 0x1becce3b100>],\n",
       " 'fliers': [<matplotlib.lines.Line2D at 0x1becce3b3a0>],\n",
       " 'means': []}"
      ]
     },
     "execution_count": 37,
     "metadata": {},
     "output_type": "execute_result"
    },
    {
     "data": {
      "image/png": "[encoded data removed]",
      "text/plain": [
       "<Figure size 640x480 with 1 Axes>"
      ]
     },
     "metadata": {},
     "output_type": "display_data"
    }
   ],
   "source": [
    "# Plotting the dispersion of the Pledges' length\n",
    "\n",
    "plt.boxplot(df[\"Length\"])"
   ]
  },
  {
   "cell_type": "code",
   "execution_count": 41,
   "metadata": {},
   "outputs": [
    {
     "data": {
      "text/plain": [
       "26      3\n",
       "69      5\n",
       "83      6\n",
       "91      7\n",
       "97      8\n",
       "110    28\n",
       "146    12\n",
       "211    22\n",
       "258    28\n",
       "Name: Topic, dtype: int64"
      ]
     },
     "execution_count": 41,
     "metadata": {},
     "output_type": "execute_result"
    }
   ],
   "source": [
    "# Identifying the outliers\n",
    "\n",
    "df.loc[df[\"Length\"] > 400, \"Topic\"]"
   ]
  },
  {
   "cell_type": "code",
   "execution_count": 38,
   "metadata": {},
   "outputs": [],
   "source": [
    "import seaborn as sns"
   ]
  },
  {
   "cell_type": "code",
   "execution_count": 39,
   "metadata": {},
   "outputs": [
    {
     "data": {
      "text/plain": [
       "<Axes: xlabel='Topic', ylabel='Length'>"
      ]
     },
     "execution_count": 39,
     "metadata": {},
     "output_type": "execute_result"
    },
    {
     "data": {
      "image/png": "[encoded data removed]",
      "text/plain": [
       "<Figure size 640x480 with 1 Axes>"
      ]
     },
     "metadata": {},
     "output_type": "display_data"
    }
   ],
   "source": [
    "sns.boxplot(x = df[\"Topic\"], y = df[\"Length\"]) # Boxplots of length by topic"
   ]
  }
 ],
 "metadata": {
  "kernelspec": {
   "display_name": ".venv",
   "language": "python",
   "name": "python3"
  },
  "language_info": {
   "codemirror_mode": {
    "name": "ipython",
    "version": 3
   },
   "file_extension": ".py",
   "mimetype": "text/x-python",
   "name": "python",
   "nbconvert_exporter": "python",
   "pygments_lexer": "ipython3",
   "version": "3.9.16"
  },
  "orig_nbformat": 4
 },
 "nbformat": 4,
 "nbformat_minor": 2
}
